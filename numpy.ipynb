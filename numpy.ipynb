{
 "cells": [
  {
   "cell_type": "markdown",
   "id": "e672879d",
   "metadata": {},
   "source": [
    "# [Numpy](#numpy)\n",
    "0.    [Import data with pandas](#1-import-data-with-pandas)\n",
    "1.    [ Preface](#preface)\n",
    "        - [Creating 1-D Array](#creating-1-d-array)\n",
    "        - [List Operations](#list-operations)\n",
    "        - [Concatenation work even not in same shape](#concatenation-work-even-not-in-same-shape)\n",
    "        - [Diff datatype in a NP array](#diff-datatype-in-a-np-arr)\n"
   ]
  },
  {
   "cell_type": "markdown",
   "id": "44334436",
   "metadata": {},
   "source": [
    "## 1. Import data with pandas\n",
    "- Import csv from local path "
   ]
  },
  {
   "cell_type": "code",
   "execution_count": 6,
   "id": "91d6658e",
   "metadata": {},
   "outputs": [],
   "source": [
    "import numpy as np\n",
    "import pandas as pd"
   ]
  },
  {
   "cell_type": "code",
   "execution_count": 7,
   "id": "b895ce98",
   "metadata": {},
   "outputs": [
    {
     "name": "stdout",
     "output_type": "stream",
     "text": [
      "__________\n",
      "First 5 Row:                                                                                                                        gundam (1)\n",
      "MB                              Series                  Price   Rel Date                                                  Distri\n",
      "GNR-010 0 Raiser + GN Sword III Mobile Suit Gundam 00   ¥4,800  2011 July      Tamashii Web exclusive accessory set to conver...\n",
      "GN-000+GNR-010 Trans-Am Raiser  Mobile Suit Gundam 00   ¥17,143 2012 February  Tamashii Web exclusive color variant of MB-01 ...\n",
      "ZGMF-X10A Freedom Gundam        Mobile Suit Gundam SEED ¥17,143 2012 November  Tamashii Web exclusive metallic color variant ...\n",
      "GN-0000+GNR-010 00 Raiser       Mobile Suit Gundam 00   ¥18,000 2013 August    Tamashii Web exclusive release of MB-01 (witho...\n",
      "...\n",
      "Last 3 Row:                                                                                                                     gundam (1)\n",
      "XM-X1 Crossbone Gundam X-1 Mobile Suit Crossbone Gundam ¥40,000 2025 June      Tamashii Web exclusive parts variant of MB-18.\n",
      "GF13-017NJII God Gundam    God Gundam II                ¥40,000 2025 August                   Tamashii Web exclusive release.\n",
      "Mobile Suit Zeta Gundam    NaN                          ¥9,000  2025 October  Tamashii Web exclusive accessory set for MB-35.\n"
     ]
    }
   ],
   "source": [
    "df_limited = pd.read_csv('gundam_limited.csv')\n",
    "# .head() default shows first 5 rows, .head(k) shows first k rows\n",
    "print(10*\"_\")\n",
    "print(\"First 5 Row: \", df_limited.head())\n",
    "print(3*\".\")\n",
    "print(\"Last 3 Row: \", df_limited.tail(3))  # last 3 rows"
   ]
  },
  {
   "cell_type": "code",
   "execution_count": 8,
   "id": "e39510e4",
   "metadata": {},
   "outputs": [
    {
     "name": "stdout",
     "output_type": "stream",
     "text": [
      "__________\n",
      "First 5 Row:                                                                                                                                                gundam_reg\n",
      "MB                               Series                                     Price   Rel Date                                                      Distri\n",
      "GN-0000/7S 00 Gundam Seven Sword Mobile Suit Gundam 00V: Battlefield Record ¥13,800 2011 March 26                      First release from the  timeline.\n",
      "ZGMF-X10A Freedom Gundam         Mobile Suit Gundam SEED                    ¥15,000 2012 March 24                      First release from the  timeline.\n",
      "GN-001 Gundam Exia               Mobile Suit Gundam 00                      ¥15,000 2013 March 23                Includes parts to convert figure into .\n",
      "GN-001RE Gundam Exia Repair      Mobile Suit Gundam 00                      ¥13,800 2014 September 14  Parts variant of MB-03.Includes parts to conve...\n",
      "...\n",
      "Last 3 Row:                                                                                                                                            gundam_reg\n",
      "RX-93-ν2 Hi-ν Gundam      Mobile Suit Gundam: Char's Counterattack - Belt... ¥32,000 2022 July                                                   NaN\n",
      "GN-001 Gundam Devise Exia Mobile Suit Gundam 00 Revealed Chronicle           ¥20,000 2022 October  Parts variant of MB-03. Released to commemorat...\n",
      "MSZ-006 Zeta Gundam       Mobile Suit Zeta Gundam                            ¥40,000 2025 April    Fully transformable figure. Beam rifle can be ...\n"
     ]
    }
   ],
   "source": [
    "df_reg = pd.read_csv('gundam_reg.csv')\n",
    "# .head() default shows first 5 rows, .head(k) shows first k rows\n",
    "print(10*\"_\")\n",
    "print(\"First 5 Row: \", df_reg.head())\n",
    "print(3*\".\")\n",
    "print(\"Last 3 Row: \",df_reg.tail(3))  # last 3 rows"
   ]
  },
  {
   "cell_type": "markdown",
   "id": "a33e789c",
   "metadata": {},
   "source": [
    "## Preface "
   ]
  },
  {
   "cell_type": "markdown",
   "id": "60e35925",
   "metadata": {},
   "source": [
    "\n",
    "### Creating 1-D Array\n",
    "- create a list then assign to np.arr"
   ]
  },
  {
   "cell_type": "code",
   "execution_count": 9,
   "id": "725267b5",
   "metadata": {},
   "outputs": [],
   "source": [
    "st,ed=1, 12\n",
    "\n",
    "list_a = [i for i in range(st,ed)]\n",
    "list_2 = list(range(3,12))\n",
    "list_1 = [i**2 for i in range(3,12)]\n",
    "\n",
    "np_a = np.array(list_a)\n",
    "np_2 = np.array(list_2)\n",
    "np_1 = np.array(list_1)\n"
   ]
  },
  {
   "cell_type": "markdown",
   "id": "15cb390f",
   "metadata": {},
   "source": [
    "### List Operations"
   ]
  },
  {
   "cell_type": "code",
   "execution_count": 10,
   "id": "370eaded",
   "metadata": {},
   "outputs": [
    {
     "name": "stdout",
     "output_type": "stream",
     "text": [
      "List a:  [1, 2, 3, 4, 5, 6, 7, 8, 9, 10, 11]\n",
      "List 1:  [9, 16, 25, 36, 49, 64, 81, 100, 121]\n",
      "List 2:  [3, 4, 5, 6, 7, 8, 9, 10, 11]\n",
      "NP 2:  [ 3  4  5  6  7  8  9 10 11]\n",
      "__________\n",
      "Concatenation  [  3   4   5   6   7   8   9  10  11   9  16  25  36  49  64  81 100 121]\n",
      "Addition  [ 12  20  30  42  56  72  90 110 132]\n",
      "Subtraction  [  -6  -12  -20  -30  -42  -56  -72  -90 -110]\n",
      "Multiplication  [  27   64  125  216  343  512  729 1000 1331]\n",
      "Division  [0.33333333 0.25       0.2        0.16666667 0.14285714 0.125\n",
      " 0.11111111 0.1        0.09090909]\n"
     ]
    }
   ],
   "source": [
    "print(\"List a: \", list_a)\n",
    "print(\"List 1: \", list_1)\n",
    "print(\"List 2: \", list_2)\n",
    "print(\"NP 2: \", np_2)\n",
    "print(10*\"_\")\n",
    "# Concatenation , Addition, Subtraction, Multiplication, Division\n",
    "\n",
    "# Must pass a tuple or list of arrays to np.concatenate\n",
    "print(\"Concatenation \", np.concatenate((np_2, np_1)))\n",
    "\n",
    "print(\"Addition \", np_2 + np_1)\n",
    "print(\"Subtraction \", np_2 - np_1)\n",
    "print(\"Multiplication \", np_2 * np_1)\n",
    "print(\"Division \", np_2 / np_1)"
   ]
  },
  {
   "cell_type": "markdown",
   "id": "aabebe5c",
   "metadata": {},
   "source": [
    "###  Concatenation work even not in same shape\n",
    "- value error promot if + - X / , not in same shape"
   ]
  },
  {
   "cell_type": "code",
   "execution_count": 11,
   "id": "d08bf773",
   "metadata": {},
   "outputs": [
    {
     "name": "stdout",
     "output_type": "stream",
     "text": [
      "Concatenation:  [ 1  2  3  4  5  6  7  8  9 10 11  3  4  5  6  7  8  9 10 11]\n",
      "Shape Not fit operands could not be broadcast together with shapes (11,) (9,) \n"
     ]
    }
   ],
   "source": [
    "print(\"Concatenation: \", np.concatenate((np_a, np_2)))\n",
    "try:\n",
    "    print(\"Subtraction: \", np_a - np_2)\n",
    "    print(\"Multiplication: \", np_a * np_2)\n",
    "    print(\"Addition: \", np_a + np_2)  \n",
    "except ValueError as e:\n",
    "# \"ValueError: operands could not be broadcast together with shapes (9,) (7,) \"\n",
    "    print(\"Shape Not fit\", e)\n"
   ]
  },
  {
   "cell_type": "markdown",
   "id": "75c357e3",
   "metadata": {},
   "source": [
    "### Diff datatype in a NP arr\n",
    "\n",
    "- numpy is great for doing vector arithmetic\n",
    "- numpy arrays cannot contain elements with different types"
   ]
  },
  {
   "cell_type": "code",
   "execution_count": 12,
   "id": "c597d698",
   "metadata": {},
   "outputs": [
    {
     "data": {
      "text/plain": [
       "array([4, 5, 2])"
      ]
     },
     "execution_count": 12,
     "metadata": {},
     "output_type": "execute_result"
    }
   ],
   "source": [
    "np.array([True, 1, 2]) + np.array([3, 4, False])"
   ]
  },
  {
   "cell_type": "markdown",
   "id": "b31dc80e",
   "metadata": {},
   "source": [
    "## 2-D arr Operation\n"
   ]
  },
  {
   "cell_type": "code",
   "execution_count": 13,
   "id": "285b94f7",
   "metadata": {},
   "outputs": [
    {
     "name": "stdout",
     "output_type": "stream",
     "text": [
      "Data type:  object\n",
      "Shape:  (25, 1)\n",
      "[['Distri']\n",
      " ['First release from the  timeline.']\n",
      " ['First release from the  timeline.']\n",
      " ['Includes parts to convert figure into .']\n",
      " ['Parts variant of MB-03.Includes parts to convert figure into']\n",
      " [nan]\n",
      " [nan]\n",
      " [nan]\n",
      " ['Parts and color variant of MB-07.']\n",
      " ['Accessory set for MB-09. Includes custom display base.']\n",
      " ['Parts and color variant of MB-07.']\n",
      " ['First release from the  timeline. Redesigned by . First MB figure to use photo etched parts. Features fully transformable face change gimmick. Released to commemorate the 25th anniversary of .']\n",
      " ['Re-release of MB-01 with GN Sword II Blaster and additional GN Drive with brackets to mount it on the right shoulder armor.']\n",
      " ['Features LED light for chest GN Drive and two modes of Quantum Burst. Includes display ring and shield effect for GN Shield Bits. Released to commemorate the 10th anniversary of  and Tamashii Nations.']\n",
      " ['Redesigned by Kunio Okawara and Satoshi Shigeta.']\n",
      " ['Includes fully transformable Core Fighter, fully articulated Anti Beam Coating Cloak, and Billy unit.']\n",
      " ['Parts and color variant of Tamashii Web exclusive MBF-P02Kai Gundam Astray Red Frame Kai.']\n",
      " ['Redesign of MB-02 with improved articulation and proportions. First MB redesign release.']\n",
      " ['Matt color variant of MB-11. Released to commemorate the 30th anniversary of .']\n",
      " ['Parts and matte color variant of MB-07. Includes additional matte color variant of right arm from MB-07.']\n",
      " ['Released to coincide with the 10th anniversary of Metal Build.']\n",
      " [nan]\n",
      " [nan]\n",
      " ['Parts variant of MB-03. Released to commemorate the 15th anniversary of .']\n",
      " ['Fully transformable figure. Beam rifle can be displayed as a figure-exclusive beam naginata with two beam effect parts attached on both ends. Released to commemorate the 40th anniversary of .']]\n"
     ]
    }
   ],
   "source": [
    "np_gundam_reg = df_reg.to_numpy()\n",
    "print(\"Data type: \", np_gundam_reg.dtype)  # all become <U\n",
    "print(\"Shape: \", np_gundam_reg.shape)  # (20, 7)\n",
    "print(np_gundam_reg) \n"
   ]
  }
 ],
 "metadata": {
  "kernelspec": {
   "display_name": "Python 3",
   "language": "python",
   "name": "python3"
  },
  "language_info": {
   "codemirror_mode": {
    "name": "ipython",
    "version": 3
   },
   "file_extension": ".py",
   "mimetype": "text/x-python",
   "name": "python",
   "nbconvert_exporter": "python",
   "pygments_lexer": "ipython3",
   "version": "3.13.3"
  }
 },
 "nbformat": 4,
 "nbformat_minor": 5
}
