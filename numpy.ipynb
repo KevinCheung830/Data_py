{
 "cells": [
  {
   "cell_type": "code",
   "execution_count": 2,
   "id": "91d6658e",
   "metadata": {},
   "outputs": [],
   "source": [
    "import numpy as np\n",
    "import pandas as pd"
   ]
  },
  {
   "cell_type": "code",
   "execution_count": null,
   "id": "b895ce98",
   "metadata": {},
   "outputs": [
    {
     "name": "stdout",
     "output_type": "stream",
     "text": [
      "                                                                                                                      gundam (1)\n",
      "MB                              Series                  Price   Rel Date                                                  Distri\n",
      "GNR-010 0 Raiser + GN Sword III Mobile Suit Gundam 00   ¥4,800  2011 July      Tamashii Web exclusive accessory set to conver...\n",
      "GN-000+GNR-010 Trans-Am Raiser  Mobile Suit Gundam 00   ¥17,143 2012 February  Tamashii Web exclusive color variant of MB-01 ...\n",
      "ZGMF-X10A Freedom Gundam        Mobile Suit Gundam SEED ¥17,143 2012 November  Tamashii Web exclusive metallic color variant ...\n",
      "GN-0000+GNR-010 00 Raiser       Mobile Suit Gundam 00   ¥18,000 2013 August    Tamashii Web exclusive release of MB-01 (witho...\n"
     ]
    }
   ],
   "source": [
    "df = pd.read_csv('gundam.csv')\n",
    "print(df.head())"
   ]
  },
  {
   "cell_type": "code",
   "execution_count": null,
   "id": "689bf57d",
   "metadata": {},
   "outputs": [],
   "source": [
    "\n",
    "r1=58\n",
    "r2=85\n",
    "\n",
    "weight_lb= [i for i in range(r1,r2)]\n",
    "height_in= list(range(r1,r2))\n",
    "\n",
    "np_weight_lb = np.array(weight_lb)\n",
    "np_height_in = np.array(height_in)\n",
    "\n",
    "# Print out the weight at index 5\n",
    "print(np_weight_lb[5])\n",
    "\n",
    "# Print out sub-array of np_height_in: index 5 up to and including index 10\n",
    "\n",
    "print(np_height_in[5:11])"
   ]
  }
 ],
 "metadata": {
  "kernelspec": {
   "display_name": "Python 3",
   "language": "python",
   "name": "python3"
  },
  "language_info": {
   "codemirror_mode": {
    "name": "ipython",
    "version": 3
   },
   "file_extension": ".py",
   "mimetype": "text/x-python",
   "name": "python",
   "nbconvert_exporter": "python",
   "pygments_lexer": "ipython3",
   "version": "3.13.3"
  }
 },
 "nbformat": 4,
 "nbformat_minor": 5
}
